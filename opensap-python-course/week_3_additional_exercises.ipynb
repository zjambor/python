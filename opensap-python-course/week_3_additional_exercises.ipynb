{
 "cells": [
  {
   "cell_type": "markdown",
   "metadata": {},
   "source": [
    "# Week 3 - Additional Exercises\n",
    "## Tuples, Dictionaries"
   ]
  },
  {
   "cell_type": "markdown",
   "metadata": {},
   "source": [
    "### Exercise 1: Create Tuple\n",
    "The Guardian publishes the current [football tables](https://www.theguardian.com/football/tables) of the major European football leagues ⚽️. (If you like to do this task with your own league, you can of course choose any other webpage hosting your team, your sports, your league 🙂).\n",
    "\n",
    "For each of the first three teams of your favourite league create a tuple consisting of *Name of the Team, Position, Games Played* and *Points*. Use three variables `team1`, `team2`, `team3` to store these tuples. Using a `for` loop iterate over one team and print the individual elements."
   ]
  },
  {
   "cell_type": "code",
   "execution_count": 1,
   "metadata": {},
   "outputs": [
    {
     "name": "stdout",
     "output_type": "stream",
     "text": [
      "(Man City,1,31,74,)\n",
      "\n",
      "(Liverpool,2,34,82,)\n",
      "\n",
      "(Chelsea,3,33,66,)\n",
      "\n"
     ]
    }
   ],
   "source": [
    "# First line could be\n",
    "team1 = (\"Man City\", 1, 31, 74)\n",
    "team2 = (\"Liverpool\", 2, 34, 82)\n",
    "team3 = (\"Chelsea\", 3, 33, 66)\n",
    "\n",
    "teams = [team1, team2, team3]\n",
    "\n",
    "for t in teams:\n",
    "    print('(', end = '')\n",
    "    for elem in t:\n",
    "        print(str(elem) + ',', end = '')\n",
    "    print(')')\n",
    "    print()"
   ]
  },
  {
   "cell_type": "markdown",
   "metadata": {},
   "source": [
    "### Exercise 2: Add these tuples to a list\n",
    "Create a list called `league` and add each team to this list. Iterate over this list and output each team."
   ]
  },
  {
   "cell_type": "code",
   "execution_count": 2,
   "metadata": {},
   "outputs": [
    {
     "name": "stdout",
     "output_type": "stream",
     "text": [
      "('Man City', 1, 31, 74)\n",
      "('Liverpool', 2, 34, 82)\n",
      "('Chelsea', 3, 33, 66)\n"
     ]
    }
   ],
   "source": [
    "league = []\n",
    "league.append(team1)\n",
    "league.append(team2)\n",
    "league.append(team3)\n",
    "\n",
    "for t in league:\n",
    "    print(t)"
   ]
  },
  {
   "cell_type": "markdown",
   "metadata": {},
   "source": [
    "### Exercise 3: Using `input()` add three more teams to the league\n",
    "Three teams are not enough! Add three more teams to your league. Use a `for` loop iterating over `range(3)`. Within the `for` loop use `input()` to get the required values (name, position, games played, points). Do not forget to cast the input, if a certain data type is preferred. At the end of the loop create a tuple and append it to your `league`. Once the enlarged `league` is built up, again print all the teams. (If you run the program several times, you can really increase the number of teams in your league.)"
   ]
  },
  {
   "cell_type": "code",
   "execution_count": null,
   "metadata": {},
   "outputs": [],
   "source": []
  },
  {
   "cell_type": "markdown",
   "metadata": {},
   "source": [
    "### Exercise 4: Print out the position of a team\n",
    "Using `input()` ask for a name of a team. If the team is in the list, output the current position of this team. If the team is not in the list, then output, that the team does not play in your league."
   ]
  },
  {
   "cell_type": "code",
   "execution_count": 3,
   "metadata": {},
   "outputs": [
    {
     "name": "stdout",
     "output_type": "stream",
     "text": [
      "Chelsea is currently on position 3\n"
     ]
    }
   ],
   "source": [
    "team = input(\"Please enter the name of a team: \")\n",
    "found = False\n",
    "pos = 0\n",
    "for t in league:\n",
    "    if t[0] == team:\n",
    "        found = True\n",
    "        pos = t[1]\n",
    "        break\n",
    "if found:\n",
    "    print(team, \"is currently on position\", pos)\n",
    "else:\n",
    "    print(\"does not play in the league\")"
   ]
  },
  {
   "cell_type": "markdown",
   "metadata": {},
   "source": [
    "### Exercise 5: Convert the list into a dictionary\n",
    "As you have seen in the last exercise, it is necessary to loop over the list to find a certain team. Maybe, we should convert the *list of tuples* into a *dictionary of tuples* named `new_league`. Take the name of each team as the key and the other values as a (new) tuple which is the value assigned to that key. Finally, iterate over the dictionary and print each key-value-pair."
   ]
  },
  {
   "cell_type": "code",
   "execution_count": 28,
   "metadata": {},
   "outputs": [
    {
     "name": "stdout",
     "output_type": "stream",
     "text": [
      "Man City (1, 31, 74)\n",
      "Liverpool (2, 34, 82)\n",
      "Chelsea (3, 33, 66)\n"
     ]
    }
   ],
   "source": [
    "new_league = {}\n",
    "for element in league:\n",
    "    new_league[element[0]] = (element[1], element[2], element[3])\n",
    "\n",
    "for tm in new_league:\n",
    "    print(tm, new_league[tm])"
   ]
  },
  {
   "cell_type": "markdown",
   "metadata": {},
   "source": [
    "### Exercise 6: Print out the position of a team\n",
    "Redo exercise 4. Of course you should use the dictionary `new_league` to get the data."
   ]
  },
  {
   "cell_type": "code",
   "execution_count": 5,
   "metadata": {},
   "outputs": [
    {
     "name": "stdout",
     "output_type": "stream",
     "text": [
      "Chelsea is currently on position 3\n",
      "(3, 33, 66)\n"
     ]
    }
   ],
   "source": [
    "team = input(\"Please enter the name of a team: \")\n",
    "print(team, \"is currently on position\", new_league[team][0])\n",
    "print(new_league[team])"
   ]
  },
  {
   "cell_type": "markdown",
   "metadata": {},
   "source": [
    "### Exercise 7: Add the goal difference\n",
    "You realize, that to position two teams with same number of points the *goal difference (GD)* is required. Add the goal difference to the tuple containing the team values. As a tuple is unmutable, you have to first deconstruct the tuple, then add the goal difference and finally construct a new tuple. You can get the goal difference again using `input()`. Finally print the values of all teams of `new_league`."
   ]
  },
  {
   "cell_type": "code",
   "execution_count": 29,
   "metadata": {},
   "outputs": [
    {
     "name": "stdout",
     "output_type": "stream",
     "text": [
      "Man City (1, 31, 74, 2)\n",
      "Liverpool (2, 34, 82, 3)\n",
      "Chelsea (3, 33, 66, 5)\n"
     ]
    }
   ],
   "source": [
    "for tm in new_league:\n",
    "    new_pos = new_league[tm][0]\n",
    "    gameplayed = new_league[tm][1]\n",
    "    points = new_league[tm][2]\n",
    "    #del new_league[tm]\n",
    "    question = \"Please enter the goal diff of: \" + tm + \"?\"\n",
    "    goal_diff = int(input(question))\n",
    "    new_league[tm] = (new_pos, gameplayed, points, goal_diff)\n",
    "\n",
    "for tm in new_league:\n",
    "    print(tm, new_league[tm])"
   ]
  },
  {
   "cell_type": "markdown",
   "metadata": {},
   "source": [
    "### Exercise 8: Convert the tuples into dictionaries\n",
    "As you have experienced in the above exercise, adding new information to the teams is quite cumbersome as a tuple is immutable. That means all values from the old tuple have to be picked and placed into a new tuple with the additional values. To make live easier in the future, the tuples should next be changed into a dictionary. Iterate over the dictionary `new_league`. For each team create a new dictionary `team_info`. For the keys use descriptive names like `\"points\"` or `\"goal difference\"`. Assign the value from the tuples as value to these keys. Assign the dictionary `team_info` as the value to the team in the dictionary of the teams. Finally, loop over the dictionary and display the team information."
   ]
  },
  {
   "cell_type": "code",
   "execution_count": 30,
   "metadata": {},
   "outputs": [
    {
     "name": "stdout",
     "output_type": "stream",
     "text": [
      "Man City {'position': 1, 'gameplayed': 31, 'points': 74, 'goal_diff': 2}\n",
      "Liverpool {'position': 2, 'gameplayed': 34, 'points': 82, 'goal_diff': 3}\n",
      "Chelsea {'position': 3, 'gameplayed': 33, 'points': 66, 'goal_diff': 5}\n"
     ]
    }
   ],
   "source": [
    "for key, values in new_league.items():\n",
    "    team_info = {}\n",
    "    team_info[\"position\"] = values[0]\n",
    "    team_info[\"gameplayed\"] = values[1]\n",
    "    team_info[\"points\"] = values[2]\n",
    "    team_info[\"goal_diff\"] = values[3]\n",
    "\n",
    "    new_league[key] = team_info\n",
    "\n",
    "for key, values in new_league.items():\n",
    "    print(key, values)"
   ]
  },
  {
   "cell_type": "markdown",
   "metadata": {},
   "source": [
    "### Exercise 9: Add Points/Game\n",
    "As another indicator per team, the average number of points per game should be calculated and added as info to each team. Loop over `new_league`, calculate this new indicator and add it to the team values. Finally, for each team print the name and the points per game."
   ]
  },
  {
   "cell_type": "code",
   "execution_count": 32,
   "metadata": {},
   "outputs": [
    {
     "name": "stdout",
     "output_type": "stream",
     "text": [
      "Man City {'position': 1, 'gameplayed': 31, 'points': 74, 'goal_diff': 2, 'average': 2.3870967741935485}\n",
      "Liverpool {'position': 2, 'gameplayed': 34, 'points': 82, 'goal_diff': 3, 'average': 2.411764705882353}\n",
      "Chelsea {'position': 3, 'gameplayed': 33, 'points': 66, 'goal_diff': 5, 'average': 2.0}\n"
     ]
    }
   ],
   "source": [
    "for key, values in new_league.items():\n",
    "    avg = values[\"points\"] / values[\"gameplayed\"]\n",
    "    values[\"average\"] = avg\n",
    "\n",
    "for key, values in new_league.items():\n",
    "    print(key, values)"
   ]
  }
 ],
 "metadata": {
  "kernelspec": {
   "display_name": "Python 3",
   "language": "python",
   "name": "python3"
  },
  "language_info": {
   "codemirror_mode": {
    "name": "ipython",
    "version": 3
   },
   "file_extension": ".py",
   "mimetype": "text/x-python",
   "name": "python",
   "nbconvert_exporter": "python",
   "pygments_lexer": "ipython3",
   "version": "3.10.0"
  }
 },
 "nbformat": 4,
 "nbformat_minor": 4
}
