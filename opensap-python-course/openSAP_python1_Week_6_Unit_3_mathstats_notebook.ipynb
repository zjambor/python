{
 "cells": [
  {
   "cell_type": "markdown",
   "metadata": {},
   "source": [
    "# The `math`, the `random` and the `statistics` libraries \n",
    "This unit focuses on using different functionalities provided by the `math`, `random` and `statistics` libraries. \n",
    "These libraries are part of the [Python Standard Library](https://docs.python.org/3/library/index.html).\n",
    "In order to explore these libraries two exercises are used. To familiarize yourself with the Python Standard Library and\n",
    "the documentation it is highly recommended that you try to solve the exercises yourself before looking at the solutions.\n",
    "\n",
    "\n",
    "## Exercises\n",
    "\n",
    "### Exercise 1 - The `math` library\n",
    "\n",
    "Write a program that performs the following tasks:\n",
    "1. Get a integer number from the user\n",
    "1. Calculate the factorial ($x!$) of this number\n",
    "1. Calculate the natural logarithm and the logarithm to the base 10 of the number\n",
    "\n",
    "Explore the [documentation](https://docs.python.org/3/library/math.html) of the `math` library to find suitable\n",
    "functions."
   ]
  },
  {
   "cell_type": "code",
   "execution_count": 2,
   "metadata": {},
   "outputs": [
    {
     "name": "stdout",
     "output_type": "stream",
     "text": [
      "factorial of 15 is 1307674368000\n",
      "natural logarithm of 15 is 2.70805020110221\n",
      "base 10 logarithm of 15 is 1.1760912590556813\n"
     ]
    }
   ],
   "source": [
    "# Implement your solution here\n",
    "import math as m\n",
    "\n",
    "mynumber = int(input(\"Please enter an integer: \"))\n",
    "fact = m.factorial(mynumber)\n",
    "print(f\"factorial of {mynumber} is {fact}\")\n",
    "print(f\"natural logarithm of {mynumber} is {m.log(mynumber)}\")\n",
    "print(f\"base 10 logarithm of {mynumber} is {m.log10(mynumber)}\")"
   ]
  },
  {
   "cell_type": "markdown",
   "metadata": {},
   "source": [
    "### Exercise 2 - The `random` and `statistics` libraries\n",
    "\n",
    "Use functions from the `random` and `statistics` libraries to\n",
    "- generate a list of 100 random integer numbers between 1 and 10\n",
    "- calculate the mean of this list\n",
    "- calculate the median of this list\n",
    "- calculate the variance of this list\n",
    "\n",
    "Explore the documentation of the [`random`](https://docs.python.org/3/library/random.html) and the\n",
    "[`statistics`](https://docs.python.org/3/library/statistics.html) libraries to find suitable functions. "
   ]
  },
  {
   "cell_type": "code",
   "execution_count": 8,
   "metadata": {},
   "outputs": [
    {
     "name": "stdout",
     "output_type": "stream",
     "text": [
      "[4, 8, 10, 7, 10, 4, 4, 11, 6, 9, 10, 10, 4, 10, 8, 4, 8, 9, 9, 3, 4, 4, 3, 2, 1, 6, 1, 2, 1, 4, 3, 5, 7, 1, 7, 3, 9, 11, 9, 6, 6, 2, 7, 4, 3, 7, 2, 9, 10, 4, 7, 7, 4, 7, 8, 1, 10, 11, 6, 8, 4, 9, 2, 3, 8, 6, 10, 3, 1, 8, 1, 7, 5, 7, 7, 9, 5, 9, 6, 8, 6, 9, 2, 10, 9, 2, 6, 5, 6, 10, 4, 8, 11, 4, 5, 10, 10, 4, 4, 4]\n",
      "Mean: 6.07\n",
      "Median: 6.0\n",
      "Variance: 8.6920202020202\n"
     ]
    }
   ],
   "source": [
    "# Implement your solution here\n",
    "import random, statistics as s\n",
    "\n",
    "list_of_integers = [random.randint(1,11) for x in range(100)]\n",
    "print(list_of_integers)\n",
    "print(\"Mean:\", s.mean(list_of_integers))\n",
    "print(\"Median:\", s.median(list_of_integers))\n",
    "print(\"Variance:\", s.variance(list_of_integers))"
   ]
  }
 ],
 "metadata": {
  "interpreter": {
   "hash": "25034407fed5d681614dac11a1c0537e8cb49e3a8883c071303eea01322943d9"
  },
  "kernelspec": {
   "display_name": "Python 3.9.6 64-bit",
   "language": "python",
   "name": "python3"
  },
  "language_info": {
   "codemirror_mode": {
    "name": "ipython",
    "version": 3
   },
   "file_extension": ".py",
   "mimetype": "text/x-python",
   "name": "python",
   "nbconvert_exporter": "python",
   "pygments_lexer": "ipython3",
   "version": "3.9.6"
  }
 },
 "nbformat": 4,
 "nbformat_minor": 2
}
