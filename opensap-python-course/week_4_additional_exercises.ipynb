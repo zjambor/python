{
 "cells": [
  {
   "cell_type": "markdown",
   "metadata": {},
   "source": [
    "# Additional Exercises: file handling, formatted output\n",
    "If you are eager to practise a little more, here are some exercises."
   ]
  },
  {
   "cell_type": "markdown",
   "metadata": {},
   "source": [
    "## Exercise 1: Write data to file\n",
    "Create a file named `numbers.txt` by opening a file in mode `w`. Write the numbers from 1 - 100 into the file. Close the file. Using a text-editor check your result.\n",
    "Change your program, so that the numbers are all separated by a semicolon. Change the program again, so that all numbers are written in a new line."
   ]
  },
  {
   "cell_type": "code",
   "execution_count": 3,
   "metadata": {},
   "outputs": [],
   "source": [
    "with open(\"numbers.txt\", \"w\") as file:\n",
    "    for i in range(100):\n",
    "        file.write(str(i) + \";\")"
   ]
  },
  {
   "cell_type": "markdown",
   "metadata": {},
   "source": [
    "## Exercise 2: Sum up random number from file\n",
    "In the file `randomnumbers.txt` there are some random numbers. Each number is printed in a separate line. (Maybe, you should first have a look into the file using your an editor.) Read the file and sum up all the numbers. Print out the result.\n",
    "\n",
    "### Hint\n",
    "Do not forget to first delete the line break after each number and second to cast the content of each line into a string."
   ]
  },
  {
   "cell_type": "code",
   "execution_count": 3,
   "metadata": {},
   "outputs": [
    {
     "name": "stdout",
     "output_type": "stream",
     "text": [
      "99725\n"
     ]
    }
   ],
   "source": [
    "with open(\"randomnumbers.txt\", \"r\") as file:\n",
    "    summ = 0\n",
    "    for line in file:\n",
    "        number = int(line.strip())\n",
    "        summ += number\n",
    "print(summ)"
   ]
  },
  {
   "cell_type": "markdown",
   "metadata": {},
   "source": [
    "## Exercise 3: Copy file\n",
    "Create a copy of the file `randomnumbers.txt` called `randomnumbers_copy.txt`. \n",
    "\n",
    "### Hint:\n",
    "Open the first file in read-mode and the second in write-mode. Read the data from the first file line by line and write the data into the second file. "
   ]
  },
  {
   "cell_type": "code",
   "execution_count": null,
   "metadata": {},
   "outputs": [],
   "source": []
  },
  {
   "cell_type": "markdown",
   "metadata": {},
   "source": [
    "## Exercise 4: Split list into two lists\n",
    "Again read the file `randomnumbers.txt`. Write all even numbers into a list   `randomnumbers_even.txt` and all odd numbers into a list `randomnumbers_odd.txt`. \n",
    "\n",
    "### Hint\n",
    "In a first version read all the numbers, cast them to integer and write them into a list. Then iterate over the list and filter all even numbers and write these into the corresponding file. Then iterate again over the list and write all the ood numbers into the other file.\n",
    "\n",
    "In a second version, try to nest the statements to get more compact code."
   ]
  },
  {
   "cell_type": "code",
   "execution_count": 4,
   "metadata": {},
   "outputs": [],
   "source": [
    "with open(\"randomnumbers.txt\", \"r\") as file:\n",
    "    even_numbers = []\n",
    "    odd_numbers = []\n",
    "    for line in file:\n",
    "        number = int(line.strip())\n",
    "        if number % 2 == 0:\n",
    "            even_numbers.append(number)\n",
    "        else:\n",
    "            odd_numbers.append(number)\n",
    "\n",
    "with open(\"randomnumbers_even.txt\", \"w\") as evenfile:\n",
    "    for n in even_numbers:\n",
    "        evenfile.write(str(n) + \"\\n\")\n",
    "\n",
    "with open(\"randomnumbers_odd.txt\", \"w\") as oddfile:\n",
    "    for n in odd_numbers:\n",
    "        oddfile.write(str(n) + \"\\n\")"
   ]
  },
  {
   "cell_type": "markdown",
   "metadata": {},
   "source": [
    "## Exercise 5: Create file of students\n",
    "Within the student office new students should be registered to a course. For each student the following data shall be taken: student_id, name, and firstname. The data shall be written into a file named `students.txt`.\n",
    "\n",
    "- Implement a `for` loop to get the input for three students. Ask for student_id, name and first name. Pack this data into a tuple. Then append the tuple to a list.\n",
    "\n",
    "- Now, as the data is all available, store the date into a file. Iterate over the list, unpack each tuple, write all the items of the tuple into a string, the items separated by a semicolon. Finally, write this string into a file. There should be one student per line.\n",
    "\n",
    "Finaylly, improve your program by replacing the `for` loop by a `while` loop. Stop the loop, when no input (just a Return) is entered for the student_id."
   ]
  },
  {
   "cell_type": "code",
   "execution_count": 9,
   "metadata": {},
   "outputs": [],
   "source": [
    "students = []\n",
    "while True:\n",
    "    student_id = input(\"Please enter the student id: \")\n",
    "    if student_id == \"\": break\n",
    "    else:\n",
    "        student_id = int(student_id)\n",
    "        name = input(\"Please enter the student name: \")\n",
    "        firstname = input(\"Please enter the student first name: \")\n",
    "        student_data = (student_id, name, firstname)\n",
    "        students.append(student_data)\n",
    "\n",
    "# for i in range(3):\n",
    "#     student_id = int(input(\"Please enter the student id: \"))\n",
    "#     name = input(\"Please enter the student name: \")\n",
    "#     firstname = input(\"Please enter the student first name: \")\n",
    "#     student_data = (student_id, name, firstname)\n",
    "#     students.append(student_data)\n",
    "\n",
    "with open(\"students.txt\", \"w\") as file:    \n",
    "    for data in students:\n",
    "        data_string = str(data[0]) + \";\" + data[1] + \";\"  + data[2]\n",
    "        file.write(data_string + \"\\n\")\n",
    "\n"
   ]
  },
  {
   "cell_type": "markdown",
   "metadata": {},
   "source": [
    "## Exercise 6: Read students from file\n",
    "Open the file from the last exercise and read all the data and write it into a dictionary of tuples. The key for the dictionary should be the student_id, the value should a tuple consisting of name and firstname.\n",
    "In a second step iterate over the dictionary and print out each student."
   ]
  },
  {
   "cell_type": "code",
   "execution_count": 12,
   "metadata": {},
   "outputs": [
    {
     "name": "stdout",
     "output_type": "stream",
     "text": [
      "1: ('zoli', 'jambor')\n",
      "2: ('billy', 'gates')\n"
     ]
    }
   ],
   "source": [
    "student_dict = {}\n",
    "with open(\"students.txt\", \"r\") as file:    \n",
    "    for data in students:\n",
    "        student_dict[data[0]] = (data[1], data[2])\n",
    "\n",
    "for st_data in student_dict:\n",
    "    print(f\"{st_data}: {student_dict[st_data]}\")"
   ]
  },
  {
   "cell_type": "markdown",
   "metadata": {},
   "source": [
    "## Exercise 7: Add students to list\n",
    "Read the data from file `students.txt` and write it into a dictionary as above. Then implement a loop and ask for more students as in exercise 5. Add these students to your dictionary. After that, print out all the data as in exercise 6, and finally store all the data in the file `students.txt` similar to exercise 5.\n",
    "\n",
    "### Hint:\n",
    "You can copy parts of the code from the above exercises. However you have to adapt the code from exercise 5 as we are now using a dictionary of tuples."
   ]
  },
  {
   "cell_type": "code",
   "execution_count": 3,
   "metadata": {},
   "outputs": [
    {
     "name": "stdout",
     "output_type": "stream",
     "text": [
      "1 ('zoli', 'jambor')\n",
      "2 ('billy', 'gates')\n",
      "3 ('name1', 'firstname1')\n",
      "4 ('name2', 'firstname2')\n"
     ]
    }
   ],
   "source": [
    "# 1)Read the file and write it's content into a dictionary\n",
    "newstudent_dict = {}\n",
    "with open(\"students.txt\") as newfile:\n",
    "    for line in newfile:\n",
    "        newstudents = line.strip().split(\";\")\n",
    "        newstudent_dict[newstudents[0]] = (newstudents[1], newstudents[2])\n",
    "\n",
    "        \n",
    "# 2)Get new the data\n",
    "studentid = newstudents[0]\n",
    "\n",
    "studentid = input(\"Please enter the student id: \")\n",
    "while studentid != \"\":    \n",
    "    name = input(\"Please enter the student name: \")\n",
    "    first_name = input(\"Please enter the student first name: \")\n",
    "    newstudent_dict[studentid] = (name, first_name)\n",
    "    studentid = input(\"Please enter the student id: \")\n",
    "\n",
    "# 3)Print the data\n",
    "for student in newstudent_dict:\n",
    "    print(student, newstudent_dict[student])\n",
    "    \n",
    "# 4)Write data back to file\n",
    "with open(\"students2.txt\", \"w\") as wfile:\n",
    "    for student in newstudent_dict:\n",
    "        datastring = student + \";\" + newstudent_dict[student][0] + \";\" + newstudent_dict[student][1] + \"\\n\"\n",
    "        wfile.write(datastring)\n"
   ]
  },
  {
   "cell_type": "markdown",
   "metadata": {},
   "source": [
    "## Exercise 8: BMI - Body-Mass-Index\n",
    "The [Body-Mass-Index](https://en.wikipedia.org/wiki/Body_mass_index) is a number which can be calculated based on the height of a person in meter and the weight of the person in kilogram. The higher the weight, the higher the BMI. The normal range of a BMI starts with 18.5 and goes up to 24.9. The BMI can be calculated using the formula\n",
    "\n",
    "    BMI = weight[kg] / height[m]²\n",
    "     \n",
    "For example, a person having a height of 1.80m and a weight of 75kg has an BMI of\n",
    "\n",
    "    BMI = 75kg / 1.8²m² = 23.1 kg/m²\n",
    "    \n",
    "Implement a program that calculates a BMI-table. In the columns there is a weight starting from 50 kg going up to 100kg in steps of 5 kg. In the rows there is the height starting at 1.50m going up to 2.00m in steps of 5cm. There should be a header row and a header column containing these values. The table itself consists the BMI. Leave a way the units. The BMI should be rounded to one decimal place.\n",
    "\n",
    "The result could look as follows:\n",
    "\n",
    "|h[m] / w[kg]   |  50    |    55  |     60|\n",
    "|--------------:|-------:|-------:|------:|\n",
    "|1,50\t        |22,2\t |24,4\t  |  26,7 |\n",
    "|1,55\t        |20,8\t |22,9\t  |  25,0 |\n",
    "|1,60\t        |19,5\t |21,5\t  |  23,4 |\n",
    "\n",
    "Just look on the content, not on the layout!\n",
    "\n",
    "### Hint\n",
    "- As in the last step, the prints shall be aligned, use f-strings for the print out from the very beginning.\n",
    "- Output the first line using a `for` loop. Use the parameters `sep`, `end` etc. to get several prints in one line. \n",
    "- Then output the first column with another `for` loop.\n",
    "- After that nest another a third `for` loop into the second one. Within this `for` loop calculate the BMI and print it. Again, make use of the paramters `sep` and `end`. Use an f-string for easy output.\n",
    "- Finally, adjust the output so that all the numbers are rounded  and aligned."
   ]
  },
  {
   "cell_type": "code",
   "execution_count": 20,
   "metadata": {},
   "outputs": [
    {
     "name": "stdout",
     "output_type": "stream",
     "text": [
      "------------------------------------------------------------------\n",
      "| h[m] / w[kg] | 50   | 55   | 60   | 65   | 70   | 75   | 80   | \n",
      "------------------------------------------------------------------\n",
      "|          1.5 | 22.2 | 24.4 | 26.7 | 28.9 | 31.1 | 33.3 | 35.6 | \n",
      "------------------------------------------------------------------\n",
      "|         1.55 | 20.8 | 22.9 | 25.0 | 27.1 | 29.1 | 31.2 | 33.3 | \n",
      "------------------------------------------------------------------\n",
      "|          1.6 | 19.5 | 21.5 | 23.4 | 25.4 | 27.3 | 29.3 | 31.2 | \n",
      "------------------------------------------------------------------\n",
      "|         1.65 | 18.4 | 20.2 | 22.0 | 23.9 | 25.7 | 27.5 | 29.4 | \n",
      "------------------------------------------------------------------\n",
      "|          1.7 | 17.3 | 19.0 | 20.8 | 22.5 | 24.2 | 26.0 | 27.7 | \n",
      "------------------------------------------------------------------\n",
      "|         1.75 | 16.3 | 18.0 | 19.6 | 21.2 | 22.9 | 24.5 | 26.1 | \n",
      "------------------------------------------------------------------\n",
      "|          1.8 | 15.4 | 17.0 | 18.5 | 20.1 | 21.6 | 23.1 | 24.7 | \n",
      "------------------------------------------------------------------\n",
      "|         1.85 | 14.6 | 16.1 | 17.5 | 19.0 | 20.5 | 21.9 | 23.4 | \n",
      "------------------------------------------------------------------\n",
      "|          1.9 | 13.9 | 15.2 | 16.6 | 18.0 | 19.4 | 20.8 | 22.2 | \n",
      "------------------------------------------------------------------\n",
      "|         1.95 | 13.1 | 14.5 | 15.8 | 17.1 | 18.4 | 19.7 | 21.0 | \n",
      "------------------------------------------------------------------\n"
     ]
    }
   ],
   "source": [
    "COLUMNS = [\"h[m] / w[kg]\", \"50\", \"55\", \"60\", \"65\", \"70\", \"75\", \"80\"]\n",
    "maxlen = 0\n",
    "for c in COLUMNS:\n",
    "    if len(c) > maxlen:\n",
    "        maxlen = len(c)\n",
    "\n",
    "first = 1.50\n",
    "\n",
    "rows = []\n",
    "rows.append(COLUMNS)\n",
    "for i in range(10):\n",
    "    newcolumns = []\n",
    "    height = first + i * 0.05\n",
    "    newcolumns.append(str(height))\n",
    "    for j in range(1, len(COLUMNS)):\n",
    "        weight = int(COLUMNS[j])\n",
    "        newcolumns.append(str(weight / height ** 2))\n",
    "    rows.append(newcolumns)\n",
    "\n",
    "strng = \"\"\n",
    "for elem in COLUMNS:\n",
    "    for i in range(len(elem) + 5):\n",
    "        strng += \"-\"\n",
    "\n",
    "print(strng)\n",
    "\n",
    "print(\"| \", end=\"\")\n",
    "print(f\"{COLUMNS[0]:12}\", end=\" | \")\n",
    "for i in range(1, len(COLUMNS)):\n",
    "    print(f\"{COLUMNS[i]:4s}\", end=\" | \")\n",
    "\n",
    "print(\"\\n\" + strng)\n",
    "\n",
    "for i in range(1, len(rows)):\n",
    "    print(\"| \", end=\"\")\n",
    "    print(f\"{round(float(rows[i][0]), 2):12}\", end=\" | \")\n",
    "    for j in range(1, len(rows[i])):\n",
    "        print(f\"{round(float(rows[i][j]), 1):4}\", end=\" | \")\n",
    "    print(\"\\n\" + strng)"
   ]
  }
 ],
 "metadata": {
  "interpreter": {
   "hash": "68c83780578f9461562d139d91a11619df9531099ddc8944c86ce3fde5e10d0e"
  },
  "kernelspec": {
   "display_name": "Python 3.10.0 64-bit (system)",
   "language": "python",
   "name": "python3"
  },
  "language_info": {
   "codemirror_mode": {
    "name": "ipython",
    "version": 3
   },
   "file_extension": ".py",
   "mimetype": "text/x-python",
   "name": "python",
   "nbconvert_exporter": "python",
   "pygments_lexer": "ipython3",
   "version": "3.10.0"
  }
 },
 "nbformat": 4,
 "nbformat_minor": 4
}
