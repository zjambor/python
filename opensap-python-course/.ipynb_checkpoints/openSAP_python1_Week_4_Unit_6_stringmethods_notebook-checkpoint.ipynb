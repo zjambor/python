{
 "cells": [
  {
   "cell_type": "markdown",
   "metadata": {},
   "source": [
    "# [String methods](https://docs.python.org/3/library/stdtypes.html#string-methods)\n",
    "You already know some methods to modify strings in Python. In this unit, you will get to know some more possible string\n",
    "operations. Shown in the table below is a selection of common methods and a short description. They will be explained\n",
    "more detailed below.\n",
    "\n",
    "\n",
    "| Method         | Description                                                                                  |\n",
    "| -------------- | -------------------------------------------------------------------------------------------- |\n",
    "| `count()`      | Count occurrences of substrings                                                              |\n",
    "| `replace()`    | Replace a substring                                                                          |\n",
    "| `strip()`      | Deletes spaces, tabs, linebreaks and similar at the beginning and the end of a string        |\n",
    "| `split()`      | Return a list of the string elements, separated by given separator                           |\n",
    "| `join()`       | Join input strings, separated by string invoking the method                                  |\n",
    "| `upper()`      | Make all characters *UPPERCASE*                                                              |\n",
    "| `lower()`      | Make all characters *lowercase*                                                              |\n",
    "| `title()`      | Make the first letter of every *word* in the **string** *UPPERCASE* and the rest *lowercase* |\n",
    "| `capitalize()` | Change the first *letter* of a **string** to *UPPERCASE* while making the rest *lowercase*   |\n",
    "\n",
    "\n",
    "The following explanations are based on the notation of the\n",
    "[official Python documentation](https://docs.python.org/3/library/stdtypes.html#string-methods) where:\n",
    "- *str* is just a placeholder for the `String` object, from which the method is invoked\n",
    "- arguments in square brackets *[ ]* are optional\n",
    "- default values for arguments (if any) are notated with an *equal sign* ( = )"
   ]
  },
  {
   "cell_type": "markdown",
   "metadata": {},
   "source": [
    "# Counting with *`str.count(sub[,start][,end])`*\n",
    "Using this method you get the number of times *`sub`* is contained in *`str`*. You can use the 2 optional arguments to\n",
    "restrict counting to specific parts of the string using the same notation for slicing as in week 2, unit 7.  \n",
    "Try out different arguments for this method. Can you spot anything special about line 5?"
   ]
  },
  {
   "cell_type": "code",
   "execution_count": null,
   "metadata": {},
   "outputs": [],
   "source": [
    "test_string = \"This this is a string containing some letters: xyxyx and a few numbers: 123 456 778899\"\n",
    "print(test_string.count(\"T\"))\n",
    "print(test_string.count(\"xyx\"))"
   ]
  },
  {
   "cell_type": "markdown",
   "metadata": {},
   "source": [
    "# Replacing parts of a string using *`str.replace(old, new[,count])`*\n",
    "If you want to replace parts of a string, you can use the method mentioned above. It will replace *old* by *new* and you\n",
    "can specify to do it only *count* times. However, it is important to notice that the method will return a copy of the\n",
    "modified string and not modify the original one."
   ]
  },
  {
   "cell_type": "code",
   "execution_count": null,
   "metadata": {},
   "outputs": [],
   "source": [
    "string_modified = test_string.replace(\"This this\", \"Look here, this\")\n",
    "print(f\"The string ({test_string}) looks like this after modifying: {string_modified}\")\n",
    "\n",
    "print(test_string.replace(\"xy\", \"xyz\", 1))"
   ]
  },
  {
   "cell_type": "markdown",
   "metadata": {},
   "source": [
    "# Splitting strings or lines of files with *`str.split(sep=None[,maxsplit=-1])`*\n",
    "\n",
    "When reading data from a file, you may come across `.csv` files, for example from measured data or exporting a list of\n",
    "students from a web tool. The data is written in a text file with a special ending (`.csv`) where rows are separated by\n",
    "line breaks and the columns are separated by a delimiter - usually the comma, hence the name\n",
    "*[(csv - comma-separated-values)](https://en.wikipedia.org/wiki/Comma-separated_values)*.\n",
    "Usually commas (`,`) are used to isolate the data sets from each other, but also a semicolon (`;`) or other signs like\n",
    "spaces or even tab stops (`\\t`) can be used. So be sure to take a look at your input data to determine the delimiter\n",
    "beforehand.  \n",
    "With the method `.split()` you can extract the values from the lines in the file and assign them to separate list items\n",
    "like shown below."
   ]
  },
  {
   "cell_type": "code",
   "execution_count": 2,
   "metadata": {},
   "outputs": [
    {
     "name": "stdout",
     "output_type": "stream",
     "text": [
      "Specified student in list: [['Potter;Harry;477264;harry.potter@hogwarts.wiz;Study', 'of', 'Ancient', 'Runes'], ['Weasley;Ron;490134;ron.weasley@hogwarts.wiz;Care', 'of', 'Magical', 'Creatures'], ['Granger;Hermione;471617;hermione.granger@hogwarts.wiz;Ghoul', 'Studies'], ['Creevey;Colin;432646;colin.creevey@hogwarts.wiz;Music'], ['Finnigan;Seamus;481989;seamus.finnigan@hogwarts.wiz;Ancient', 'Studies'], ['Abbott;Hannah;488962;hannah.abbott@hogwarts.wiz;Apparition'], ['Parkinson;Pansy;482103;pansy.parkinson@hogwarts.wiz;Dark', 'Arts'], ['Smith;Zacharias;494380;zacharias.smith@hogwarts.wiz;Care', 'of', 'Magical', 'Creatures'], ['Zabini;Blaise;408761;blaise.zabini@hogwarts.wiz;Muggle', 'Music'], ['Malfoy;Draco;492010;draco.malfoy@hogwarts.wiz;Charms'], ['Thomas;Dean;447924;dean.thomas@hogwarts.wiz;Divination'], ['Bulstrode;Millicent;467061;millicent.bulstrode@hogwarts.wiz;Ghoul', 'Studies'], ['Boot;Terry;462460;terry.boot@hogwarts.wiz;Herbology'], ['Macmillan;Ernie;414813;ernie.macmillan@hogwarts.wiz;Alchemy'], ['Crabbe;Vincent;458755;vincent.crabbe@hogwarts.wiz;Ghoul', 'Studies'], ['Goyle;Gregory;496383;gregory.goyle@hogwarts.wiz;Art'], ['Brown;Lavender;484286;lavender.brown@hogwarts.wiz;Muggle', 'Studies'], ['Bell;Katie;428172;katie.bell@hogwarts.wiz;Ancient', 'Studies'], ['Patil;Parvati;471843;parvati.patil@hogwarts.wiz;Herbology'], ['Creevey;Dennis;410995;dennis.creevey@hogwarts.wiz;Magical', 'Theory'], ['Midgen;Eloise;461091;eloise.midgen@hogwarts.wiz;Astronomy'], ['Coote;Ritchie;491225;ritchie.coote@hogwarts.wiz;Arithmancy'], ['Sloper;Jack;453788;jack.sloper@hogwarts.wiz;Astronomy'], ['Frobisher;Victoria;439399;victoria.frobisher@hogwarts.wiz;Care', 'of', 'Magical', 'Creatures'], ['Hooper;Geoffrey;411888;geoffrey.hooper@hogwarts.wiz;Arithmancy'], ['Kirke;Andrew;424853;andrew.kirke@hogwarts.wiz;Potions'], ['Robins;Demelza;498334;demelza.robins@hogwarts.wiz;Herbology'], ['McLaggen;Cormac;461722;cormac.mclaggen@hogwarts.wiz;Muggle', 'Studies'], ['Longbottom;Neville;495877;neville.longbottom@hogwarts.wiz;Divination'], ['Weasley;Ginny;446927;ginny.weasley@hogwarts.wiz;Dark', 'Arts'], ['Vane;Romilda;428960;romilda.vane@hogwarts.wiz;Astronomy'], ['McDonald;Natalie;473337;natalie.mcdonald@hogwarts.wiz;Potions'], ['Peakes;Jimmy;498139;jimmy.peakes@hogwarts.wiz;Xylomancy'], ['Abercrombie;Euan;412113;euan.abercrombie@hogwarts.wiz;Charms'], ['MacDonald;Mary;464948;mary.macdonald@hogwarts.wiz;Muggle', 'Art'], ['Clearwater;Penelope;489821;penelope.clearwater@hogwarts.wiz;Potions'], ['Davies;Roger;423682;roger.davies@hogwarts.wiz;Charms'], ['Carmichael;Eddie;409795;eddie.carmichael@hogwarts.wiz;Muggle', 'Studies'], ['Chang;Cho;432914;cho.chang@hogwarts.wiz;Music'], ['Edgecombe;Marietta;479707;marietta.edgecombe@hogwarts.wiz;Divination'], ['Brocklehurst;Mandy;424573;mandy.brocklehurst@hogwarts.wiz;Astronomy'], ['Corner;Michael;427861;michael.corner@hogwarts.wiz;Transfiguration'], ['Cornfoot;Stephen;409205;stephen.cornfoot@hogwarts.wiz;Muggle', 'Art'], ['Entwhistle;Kevin;491893;kevin.entwhistle@hogwarts.wiz;Magical', 'Theory'], ['Goldstein;Anthony;429693;anthony.goldstein@hogwarts.wiz;Charms'], ['Li;Su;460737;su.li@hogwarts.wiz;Music'], ['McDougal;Morag;410362;morag.mcdougal@hogwarts.wiz;Charms'], ['Patil;Padma;438399;padma.patil@hogwarts.wiz;Muggle', 'Music'], ['Turpin;Lisa;410297;lisa.turpin@hogwarts.wiz;Dark', 'Arts'], ['Lovegood;Luna;465190;luna.lovegood@hogwarts.wiz;Astronomy'], ['Quirke;Orla;442039;orla.quirke@hogwarts.wiz;Art'], ['Ackerley;Stewart;457577;stewart.ackerley@hogwarts.wiz;Ghoul', 'Studies'], ['Bones;Susan;458723;susan.bones@hogwarts.wiz;Divination'], ['Branstone;Eleanor;462681;eleanor.branstone@hogwarts.wiz;Muggle', 'Art'], ['Cauldwell;Owen;442580;owen.cauldwell@hogwarts.wiz;Alchemy'], ['Finch-Fletchley;Justin;459220;justin.finch-fletchley@hogwarts.wiz;Charms'], ['Hopkins;Wayne;490995;wayne.hopkins@hogwarts.wiz;Herbology'], ['Jones;Megan;432783;megan.jones@hogwarts.wiz;Divination'], ['Madley;Laura;414597;laura.madley@hogwarts.wiz;Defence', 'Against', 'the', 'Dark', 'Arts'], ['Whitby;Kevin;406080;kevin.whitby@hogwarts.wiz;Divination'], ['Zeller;Rose;422984;rose.zeller@hogwarts.wiz;Music'], ['Higgs;Terence;411820;terence.higgs@hogwarts.wiz;Study', 'of', 'Ancient', 'Runes'], ['Pucey;Adrian;486169;adrian.pucey@hogwarts.wiz;Muggle', 'Studies'], ['Davis;Tracey;453450;tracey.davis@hogwarts.wiz;Advanced', 'Arithmancy', 'Studies'], ['Moon;Lilian;479394;lilian.moon@hogwarts.wiz;Herbology'], ['Greengrass;Daphne;445288;daphne.greengrass@hogwarts.wiz;Charms'], ['Nott;Theodore;496659;theodore.nott@hogwarts.wiz;Muggle', 'Studies'], ['Greengrass;Astoria;458180;astoria.greengrass@hogwarts.wiz;Muggle', 'Art'], ['Baddock;Malcolm;483666;malcolm.baddock@hogwarts.wiz;Transfiguration'], ['Pritchard;Graham;419203;graham.pritchard@hogwarts.wiz;Ghoul', 'Studies']]\n"
     ]
    }
   ],
   "source": [
    "list_of_students = []\n",
    "with open(\"students.csv\", \"r\") as f:\n",
    "    for line in f:\n",
    "        line = line.strip()\n",
    "        student = line.split()\n",
    "        list_of_students.append(student)\n",
    "\n",
    "#line_number = int(input(\"Which student do you want to show? \"))\n",
    "\n",
    "#print(f\"Specified student in list: {list_of_students[line_number]}\")\n",
    "print(f\"Specified student in list: {list_of_students[0:]}\")"
   ]
  },
  {
   "cell_type": "markdown",
   "metadata": {},
   "source": [
    "# Joining strings or lines again using *`str.join(iterable)`*\n",
    "If you would like to add your previously split student list together again, you can use `join()` to concatenate any\n",
    "*iterable* (e.g. list, tuple) of strings. You will get an output string which is separated by the string the method is\n",
    "invoked from."
   ]
  },
  {
   "cell_type": "code",
   "execution_count": 3,
   "metadata": {},
   "outputs": [
    {
     "name": "stdout",
     "output_type": "stream",
     "text": [
      "Hey - Ho - Let's - Go\n",
      "Potter * Harry * 477264 * harry.potter@hogwarts.wiz * Study of Ancient Runes\n"
     ]
    }
   ],
   "source": [
    "separator_string = \" - \"\n",
    "\n",
    "string_list = [\"Hey\", \"Ho\", \"Let's\", \"Go\"]\n",
    "print(separator_string.join(string_list))\n",
    "\n",
    "print(\" * \".join(list_of_students[0]))"
   ]
  },
  {
   "cell_type": "markdown",
   "metadata": {},
   "source": [
    "# Changing the letter case\n",
    "## *`str.upper()`* and *`str.lower()`*\n",
    "Whenever you want to change the case of a string, you can use `.upper()` or `.lower()` to make your string all\n",
    "*UPPERCASE* or completely lowercase. It will return a modified copy of the string.  \n",
    "This may be interesting when you want to design your program independent from case-sensitive search terms for example"
   ]
  },
  {
   "cell_type": "markdown",
   "metadata": {},
   "source": [
    "## *`str.title()`*\n",
    "With `.title()` you can capitalize every first letter of a word in a string whereas `.capitalize()` only makes the first\n",
    "letter in a string *UPPERCASE*."
   ]
  },
  {
   "cell_type": "code",
   "execution_count": 4,
   "metadata": {},
   "outputs": [
    {
     "name": "stdout",
     "output_type": "stream",
     "text": [
      "THIS IS A TESTSTRING IN DIFFERENT CASES\n",
      "this is a teststring in different cases\n",
      "This Is A Teststring In Different Cases\n",
      "This is a teststring in different cases\n"
     ]
    }
   ],
   "source": [
    "case_string = \"tHIS Is a TeSTString in different caSES\"\n",
    "\n",
    "print(case_string.upper())\n",
    "print(case_string.lower())\n",
    "print(case_string.title())\n",
    "print(case_string.capitalize())"
   ]
  },
  {
   "cell_type": "code",
   "execution_count": null,
   "metadata": {},
   "outputs": [],
   "source": []
  }
 ],
 "metadata": {
  "interpreter": {
   "hash": "b89b5cfaba6639976dc87ff2fec6d58faec662063367e2c229c520fe71072417"
  },
  "kernelspec": {
   "display_name": "Python 3 (ipykernel)",
   "language": "python",
   "name": "python3"
  },
  "language_info": {
   "codemirror_mode": {
    "name": "ipython",
    "version": 3
   },
   "file_extension": ".py",
   "mimetype": "text/x-python",
   "name": "python",
   "nbconvert_exporter": "python",
   "pygments_lexer": "ipython3",
   "version": "3.10.0"
  }
 },
 "nbformat": 4,
 "nbformat_minor": 2
}
