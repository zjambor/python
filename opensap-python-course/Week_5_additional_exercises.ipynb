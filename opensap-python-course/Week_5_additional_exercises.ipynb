{
 "cells": [
  {
   "cell_type": "markdown",
   "metadata": {},
   "source": [
    "# Week 5 - Additional Exercises Solution\n",
    "\n",
    "## Functions\n",
    "\n",
    "This notebook contains a few exercises which serve as a repetition of different aspects of functions:\n",
    "\n",
    "- definition of functions\n",
    "- input parameters\n",
    "- return values\n",
    "- functions called by other functions\n",
    "- default parameters.\n"
   ]
  },
  {
   "cell_type": "markdown",
   "metadata": {},
   "source": [
    "### Exercise 1: The Answer to the Ultimate Question in Live\n",
    "Many computer scientists love the novel *The Hitchhiker's Guide to the Galaxy* by *Douglas Adams* and especially the [The Answer to the thr Ultimate Question in Life, the Universe and Everything](https://en.wikipedia.org/wiki/Phrases_from_The_Hitchhiker%27s_Guide_to_the_Galaxy#The_Answer_to_the_Ultimate_Question_of_Life,_the_Universe,_and_Everything_is_42) and even more the both genius and absurd answer 42. If you know about this famous 42, you will see it again and again in computer literature, programming examples or test input.\n",
    "\n",
    "To respect this tradition, the first exercise is quite simple: Define a function called `the_answer_to_the_ultimate_question_of_life_the_universe_and_everything()` which does not take any input parameters and does not return any value. Instead, it simply prints out the famous number 42. Don't forget to execute this function by calling it.\n"
   ]
  },
  {
   "cell_type": "code",
   "execution_count": null,
   "metadata": {},
   "outputs": [],
   "source": []
  },
  {
   "cell_type": "markdown",
   "metadata": {},
   "source": [
    "### Exercise 2: Sum up Even Numbers\n",
    "Define a function `sum_even_numbers()`, that sums up the first *n* even numbers and prints the result. The function has a single parameter *n*. If `n = 3`, then the result should be `2 + 4 + 6 = 12`. Call the function with various inputs. What is the result for `n = 6`?"
   ]
  },
  {
   "cell_type": "code",
   "execution_count": 4,
   "metadata": {},
   "outputs": [
    {
     "name": "stdout",
     "output_type": "stream",
     "text": [
      "42\n"
     ]
    }
   ],
   "source": [
    "def sum_even_numbers(n):\n",
    "    _sum = 0\n",
    "    act_num = 2\n",
    "    for _ in range(n):\n",
    "        _sum += act_num\n",
    "        act_num += 2\n",
    "    print(_sum)\n",
    "\n",
    "sum_even_numbers(6)"
   ]
  },
  {
   "cell_type": "markdown",
   "metadata": {},
   "source": [
    "### Exercise 3: Pronic Numbers\n",
    "\n",
    "A [Pronic Number](https://en.wikipedia.org/wiki/Pronic_number) is a number, which is a product of two consecutive integers. For example, 20 is a pronic number because `20 = 4 * 5` and 4 and 5 are consecutive numbers. Implement a function `ispronic()` which gets an integer as a parameter and checks, if the parameter is pronic. The return value of the `ispronic()` is either `True` or `False`.\n",
    "\n",
    "Hint: A very easy way to check, if a number `n` is pronic is to go through all numbers from `1` to `n`and check, if the product of the number times it's successor is equal to `n`. \n",
    "A more efficient way to implement the function could be to:\n",
    "- ake the square root of the parameter\n",
    "- round the result to the next integer\n",
    "- multiply this result with it's successor\n",
    "- check, if the result is equal to the input. \n",
    "\n",
    "Rounding can be done by casting the square root to integer.\n",
    "\n",
    "For all numbers from `1`to `100` check if they are pronic. Check, if `42` is pronic."
   ]
  },
  {
   "cell_type": "code",
   "execution_count": 9,
   "metadata": {},
   "outputs": [
    {
     "name": "stdout",
     "output_type": "stream",
     "text": [
      "[0, 2, 6, 12, 20, 30, 42, 56, 72, 90]\n"
     ]
    }
   ],
   "source": [
    "import math\n",
    "def ispronic(n):\n",
    "    flag = False\n",
    "    ispronic_num = round(math.sqrt(n))\n",
    "    if n == ispronic_num * (ispronic_num + 1):\n",
    "        flag = True\n",
    "    return flag\n",
    "\n",
    "pronic_nums = []\n",
    "for i in range(101):\n",
    "    if ispronic(i):\n",
    "        pronic_nums.append(i)\n",
    "\n",
    "print(pronic_nums)"
   ]
  },
  {
   "cell_type": "markdown",
   "metadata": {},
   "source": [
    "### Exercise 4: Abundant Numbers\n",
    "An [Abundant Number](https://en.wikipedia.org/wiki/Abundant_number) is a number, for which the sum of all proper divisors is greater than the number itself. For example, the number `12` is abundant as the sum of its proper divisors, `1, 2, 3, 4, 6`, is `16` and `16` is greater than `12`.\n",
    "Implement a function `isabundant()` which takes an integer as input and returns either `True` if the input is abundant and `False` if not.\n",
    "\n",
    "For all numbers from `1` to `100` check, if the number is abundant. Then check, which numbers from `1` to `1000` are both pronic and abundant."
   ]
  },
  {
   "cell_type": "code",
   "execution_count": 11,
   "metadata": {},
   "outputs": [
    {
     "name": "stdout",
     "output_type": "stream",
     "text": [
      "[12, 18, 20, 24, 30, 36, 40, 42, 48, 54, 56, 60, 66, 70, 72, 78, 80, 84, 88, 90, 96, 100]\n"
     ]
    }
   ],
   "source": [
    "def isabundant(n):\n",
    "    divisors = []\n",
    "    for i in range(1, n):\n",
    "        if n % i == 0:\n",
    "            divisors.append(i)\n",
    "    flag = False\n",
    "    if sum(divisors) > n:\n",
    "        flag = True\n",
    "    return flag\n",
    "\n",
    "abundant_nums = []\n",
    "for i in range(101):\n",
    "    if isabundant(i):\n",
    "        abundant_nums.append(i)\n",
    "\n",
    "print(abundant_nums)"
   ]
  },
  {
   "cell_type": "code",
   "execution_count": null,
   "metadata": {},
   "outputs": [],
   "source": []
  },
  {
   "cell_type": "markdown",
   "metadata": {},
   "source": [
    "### Exercise 5: Narcisstic Numbers\n",
    "A number is a [Narcisstic Number](https://en.wikipedia.org/wiki/Narcissistic_number) if it  is the sum of its own digits each raised to the power of the number of digits. Sounds complicated? Let's give an example: `153` is narcissitic. `153` consists of `3` digits. Thus, our exponent is `3`. If we take all digits of `153` by the power of `3` and sum up the results, then we end up with 153. `1³ + 5³ + 3³ = 1 + 125 + 27 = 153`.\n",
    "Implement a function `isnarcisstic()` that checks, if a given input is narcissitic. The function is built upon two other functions. \n",
    "\n",
    "`number_of_digits()` gets an integer as input and returns the number of digits, this integer consists of. Example: `number_of_digits(153)` returns `3`. \n",
    "\n",
    "`digits()` gets an integer and returns a list of the digits, this integer is composed of.\n",
    "Example: `digits(153)` returns `[1, 5, 3]` \n",
    "\n",
    "Implement these three functions. Check, which of the numbers from 1 to 1000 is narcisstic. Check if 42 is narcisstic."
   ]
  },
  {
   "cell_type": "code",
   "execution_count": 43,
   "metadata": {},
   "outputs": [
    {
     "name": "stdout",
     "output_type": "stream",
     "text": [
      "1 is a narcisstic number.\n",
      "2 is a narcisstic number.\n",
      "3 is a narcisstic number.\n",
      "4 is a narcisstic number.\n",
      "5 is a narcisstic number.\n",
      "6 is a narcisstic number.\n",
      "7 is a narcisstic number.\n",
      "8 is a narcisstic number.\n",
      "9 is a narcisstic number.\n",
      "153 is a narcisstic number.\n",
      "370 is a narcisstic number.\n",
      "371 is a narcisstic number.\n",
      "407 is a narcisstic number.\n"
     ]
    }
   ],
   "source": [
    "def number_of_digits(n):\n",
    "    return len(str(n))\n",
    "\n",
    "def digits(n):\n",
    "    numstr = []\n",
    "    n = str(n)\n",
    "    for index in n:\n",
    "        numstr.append(int(index))\n",
    "    return numstr\n",
    "\n",
    "def isnarcisstic(digits_of_num, number_of_orig_number, orig_number):\n",
    "    squares = []\n",
    "    for actual_number in digits_of_num:\n",
    "        squares.append(actual_number ** number_of_orig_number)\n",
    "    return sum(squares) == orig_number\n",
    "\n",
    "numbers_1000 = [(x, isnarcisstic(digits(x), number_of_digits(x), x)) for x in range(1, 1001)]\n",
    "\n",
    "for i in numbers_1000:\n",
    "    if i[1] is True:\n",
    "        print(f\"{i[0]} is a narcisstic number.\")\n"
   ]
  },
  {
   "cell_type": "markdown",
   "metadata": {},
   "source": [
    "`42` is pronic, abundant but not narcissitic"
   ]
  },
  {
   "cell_type": "code",
   "execution_count": 37,
   "id": "4e80de75",
   "metadata": {},
   "outputs": [
    {
     "name": "stdout",
     "output_type": "stream",
     "text": [
      "42 is pronic: True, abundant: True, narcisstic: False\n"
     ]
    }
   ],
   "source": [
    "print(f\"42 is pronic: {ispronic(42)}, abundant: {isabundant(42)}, narcisstic: {isnarcisstic(digits(42), number_of_digits(42), 42)}\")"
   ]
  },
  {
   "cell_type": "markdown",
   "metadata": {},
   "source": [
    "### Exercise 6: Pascal's Triangle\n",
    "[Pascal's Triangle](https://en.wikipedia.org/wiki/Pascal%27s_triangle) is a triangular shaped array which is often used in number theory and combinatorics. The first line of the triangular consists of one number, the second line consists of two numbers and so on. The numbers are constructed in the following way: The top number and the numbers on the left and right of each row are all `1`s. All other numbers are the sum of the two numbers next to it in the upper row. The following animated figure (linked from Wikipedia) illustrates the construction: ![Pascal's Triangle as published on Wikipedia](https://upload.wikimedia.org/wikipedia/commons/0/0d/PascalTriangleAnimated2.gif)\n",
    "\n",
    "Implement a function which takes the integer `n` as input and prints out the first `n` lines of Pascal's triangle. The print can be simplified e.g. in the following way:\n",
    "\n",
    "    How many lines of Pascal`s Triangle shall be printed?  4\n",
    "    [1]\n",
    "    [1, 1]\n",
    "    [1, 2, 1]\n",
    "    [1, 3, 3, 1]\n",
    "\n",
    "As you can see, you can simply collect the numbers of each row in a list and print the entire list.\n"
   ]
  },
  {
   "cell_type": "code",
   "execution_count": 2,
   "metadata": {},
   "outputs": [
    {
     "name": "stdout",
     "output_type": "stream",
     "text": [
      "[1]\n",
      "[1, 1]\n",
      "[1, 2, 1]\n",
      "[1, 3, 3, 1]\n",
      "[1, 4, 6, 4, 1]\n",
      "[1, 5, 10, 10, 5, 1]\n",
      "[1, 6, 15, 20, 15, 6, 1]\n",
      "[1, 7, 21, 35, 35, 21, 7, 1]\n",
      "[1, 8, 28, 56, 70, 56, 28, 8, 1]\n",
      "[1, 9, 36, 84, 126, 126, 84, 36, 9, 1]\n"
     ]
    }
   ],
   "source": [
    "pascal_tr = [[1]]\n",
    "def pascal_triangle(pascal, n):\n",
    "    for i in range(1, n):\n",
    "        newline = [1]\n",
    "        for j in range(1, i):\n",
    "            newline.append(add_num(pascal, i, j))\n",
    "        newline.append(1)\n",
    "        pascal.append(newline)\n",
    "    return pascal\n",
    "\n",
    "def add_num(pascal, i, j):\n",
    "    return pascal[i-1][j-1] + pascal[i-1][j]\n",
    "\n",
    "def walkthrough(triangle):\n",
    "    if triangle != []:\n",
    "        head, *tail = triangle\n",
    "        print(head)\n",
    "        walkthrough(tail)\n",
    "\n",
    "walkthrough(pascal_triangle(pascal_tr, 10))"
   ]
  },
  {
   "cell_type": "markdown",
   "metadata": {},
   "source": [
    "### Exercise 7: Convert Temperature\n",
    "Temperarture is typically measured in Celsius, Fahrenheit or Kelvin. The different measurements can be converted using the following forumulas (C = Celsius, F = Fahrenheit, K = Kelvin)\n",
    "\n",
    "    C = (F - 32) * 5 / 9\n",
    "    F = C * 9 / 5 + 32\n",
    "    K = (F + 459.67) * 5 / 9\n",
    "    F = K * 9 / 5 - 459.67\n",
    "    K = C + 273.15 \t\n",
    "    C = K - 273.15\n",
    "    \n",
    "Implement a function, which gets two parameters as input: First the temperature and second the mode. The converted temperature is the return value of the function. The mode can be as follows:\n",
    "\n",
    "    F2K: Fahrenheit to Kelvin\n",
    "    F2C: Fahrenheit to Celsius\n",
    "    K2F: Kelvin to Fahrenheit\n",
    "    K2C: Kelvin to Celsius\n",
    "    C2F: Celsius to Fahrenheit\n",
    "    C2K: Celsius to Kelvin\n",
    "    \n",
    "The mode is of data type string. `F2K` means, the input parameter is taken as Fahrenheit and converted into Kelvin according to the above formula. The other modes should be interpreted accordingly. Important: `mode` has a default value `C2F`. Thus, if no mode is given as argument, the input temperature is Celsius and the return value shall be Fahrenheit.\n",
    "\n",
    "Implement the function and call the function with different arguments."
   ]
  },
  {
   "cell_type": "code",
   "execution_count": 9,
   "metadata": {},
   "outputs": [
    {
     "name": "stdout",
     "output_type": "stream",
     "text": [
      "C2K 30°: 303.15 Klevin\n",
      "C2F 30°: 86.0 Fahrenheit\n",
      "F2K 30°: 272.0388888888889 Klevin\n",
      "F2C 30°: -1.1111111111111112 Celsius\n",
      "K2C 30°: -243.14999999999998 Celsius\n",
      "K2F 30°: -405.67 Fahrenheit\n"
     ]
    }
   ],
   "source": [
    "\"\"\"\n",
    "    C = (F - 32) * 5 / 9\n",
    "    F = C * 9 / 5 + 32\n",
    "    K = (F + 459.67) * 5 / 9\n",
    "    F = K * 9 / 5 - 459.67\n",
    "    K = C + 273.15 \t\n",
    "    C = K - 273.15\n",
    "    \n",
    "Implement a function, which gets two parameters as input: First the temperature and second the mode. The converted temperature is the return value of the function. \n",
    "The mode can be as follows:\n",
    "\n",
    "    F2K: Fahrenheit to Kelvin\n",
    "    F2C: Fahrenheit to Celsius\n",
    "    K2F: Kelvin to Fahrenheit\n",
    "    K2C: Kelvin to Celsius\n",
    "    C2F: Celsius to Fahrenheit\n",
    "    C2K: Celsius to Kelvin\n",
    "\"\"\"\n",
    "\n",
    "def f2k(temp):\n",
    "    \"\"\"F2K: Fahrenheit to Kelvin\"\"\"\n",
    "    return (temp + 459.67) * 5 / 9\n",
    "    \n",
    "def f2c(temp):\n",
    "    \"\"\"F2C: Fahrenheit to Celsius\"\"\"\n",
    "    return (temp - 32) * 5 / 9\n",
    "\n",
    "def k2f(temp):\n",
    "    \"\"\"K2F: Kelvin to Fahrenheit\"\"\"\n",
    "    return temp * 9 / 5 - 459.67\n",
    "\n",
    "def k2c(temp):\n",
    "    \"\"\"K2C: Kelvin to Celsius\"\"\"\n",
    "    return temp - 273.15\n",
    "\n",
    "def c2f(temp):\n",
    "    \"\"\"C2F: Celsius to Fahrenheit\"\"\"\n",
    "    return temp * 9 /5 + 32\n",
    "\n",
    "def c2k(temp):\n",
    "    \"\"\"C2K: Celsius to Kelvin\"\"\"\n",
    "    return temp + 273.15\n",
    "\n",
    "def converter(mode, value):\n",
    "    first, *_, last = mode\n",
    "    if first == \"f\":\n",
    "        if last == \"k\":\n",
    "            return f2k(value)\n",
    "        else:\n",
    "            return f2c(value)\n",
    "    elif first == \"k\":\n",
    "        if last == \"f\":\n",
    "            return k2f(value)\n",
    "        else:\n",
    "            return k2c(value)\n",
    "    else:\n",
    "        if last == \"k\":\n",
    "            return c2k(value)\n",
    "        else:\n",
    "            return c2f(value)\n",
    "\n",
    "print(f\"C2K 30°: {converter('c2k', 30)} Klevin\")\n",
    "print(f\"C2F 30°: {converter('c2f', 30)} Fahrenheit\")\n",
    "print(f\"F2K 30°: {converter('f2k', 30)} Klevin\")\n",
    "print(f\"F2C 30°: {converter('f2c', 30)} Celsius\")\n",
    "print(f\"K2C 30°: {converter('k2c', 30)} Celsius\")\n",
    "print(f\"K2F 30°: {converter('k2f', 30)} Fahrenheit\")\n"
   ]
  }
 ],
 "metadata": {
  "interpreter": {
   "hash": "25034407fed5d681614dac11a1c0537e8cb49e3a8883c071303eea01322943d9"
  },
  "kernelspec": {
   "display_name": "Python 3.9.6 64-bit",
   "language": "python",
   "name": "python3"
  },
  "language_info": {
   "codemirror_mode": {
    "name": "ipython",
    "version": 3
   },
   "file_extension": ".py",
   "mimetype": "text/x-python",
   "name": "python",
   "nbconvert_exporter": "python",
   "pygments_lexer": "ipython3",
   "version": "3.9.6"
  }
 },
 "nbformat": 4,
 "nbformat_minor": 5
}
