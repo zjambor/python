{
 "cells": [
  {
   "cell_type": "markdown",
   "metadata": {},
   "source": [
    "# Examples of non-standard libraries\n",
    "\n",
    "There are many popular libraries which are not part of the default Python installation. You learned how to find and\n",
    "install them in the previous unit. Now a few libraries are presented. Note that this unit will not give \n",
    "a complete introduction in any of these libraries. Instead the goal of this unit is to give an overview \n",
    "of the large variety of available libraries. \n",
    "\n",
    "\n",
    "## [requests](https://docs.python-requests.org/en/latest/) - HTTP for Humans\n",
    "\n",
    "Using the `requests` library, you can connect to web servers and fetch their content.\n",
    "The [Quickstart Guide](https://docs.python-requests.org/en/latest/user/quickstart/)\n",
    "contains examples on how to use it and what you can do with it."
   ]
  },
  {
   "cell_type": "code",
   "execution_count": 2,
   "metadata": {},
   "outputs": [
    {
     "name": "stdout",
     "output_type": "stream",
     "text": [
      "The word 'Python' is used 1395 times in its Wikipedia entry!\n"
     ]
    }
   ],
   "source": [
    "import requests\n",
    "\n",
    "r = requests.get(\"https://en.wikipedia.org/wiki/Python_(programming_language)\")\n",
    "print(\n",
    "    f\"The word 'Python' is used {r.text.count('Python')} times in its Wikipedia entry!\"\n",
    ")"
   ]
  },
  {
   "cell_type": "markdown",
   "metadata": {},
   "source": [
    "## [BeautifulSoup](https://www.crummy.com/software/BeautifulSoup/bs4/doc/) - Analyzing Webpages\n",
    "\n",
    "BeautifulSoup is a library which perfectly complements requests, the library just introduced. Whereas requests offers the possibility to download webpages, BeautifulSoup supports the analysis of these webpages. (Actually, the name *BeautifulSoup* goes back to syntactically incorrect webpages containing just a \"soup of tags\"). \n",
    "\n",
    "In the following cell, the web-page from [The Guardian](https://www.theguardian.com) is first downloaded with `request.get()`. The content is then analyzed using `BeautifulSoup()`. With the help of the method `.find_all()` all headings of type `h3` are then listed and printed out."
   ]
  },
  {
   "cell_type": "code",
   "execution_count": 2,
   "metadata": {},
   "outputs": [
    {
     "name": "stdout",
     "output_type": "stream",
     "text": [
      "Ukraine  Any ceasefire deal that involves ceding territory to Russia ruled out \n",
      "Ukraine  Any ceasefire deal that involves ceding territory to Russia ruled out \n",
      "Live  Russia-Ukraine war: airstrikes target Mykolaiv and Donbas regions; Ukraine EU bid 'could take 20 years' \n",
      "Live  Russia-Ukraine war: airstrikes target Mykolaiv and Donbas regions; Ukraine EU bid 'could take 20 years' \n",
      "Tymofiy Seidov  Ukrainian boy and his family leave cellar after 87 days for safety abroad \n",
      "Tymofiy Seidov  Ukrainian boy and his family leave cellar after 87 days for safety abroad \n",
      "‘Devil’s advocate’?  Russian soldier’s Ukrainian lawyer defends role on eve of verdict \n",
      "‘Devil’s advocate’?  Russian soldier’s Ukrainian lawyer defends role on eve of verdict \n",
      "Australian election  Labor increasingly likely to form majority government as Liberals descend into turmoil \n",
      "Monkeypox  More cases detected in UK ‘on daily basis’, says scientist \n",
      "Football  Manchester City win Premier League as Gündogan seals incredible fightback \n",
      "Cryptocurrencies  Tether pays out $10bn in withdrawals since start of crash  \n",
      "'An unprecedented crisis'  Record 420,000 children a month in England treated for mental health problems \n",
      "Arkansas  Republican admits abortion trigger law would cause ‘heartbreak’ if Roe is reversed \n",
      "Iran  Revolutionary Guard colonel killed by motorbike gunmen in Tehran \n",
      "US  Baby formula shipment arrives from Europe, providing ‘some relief’ for families  \n",
      "Inequality  Millionaires join Davos protests, demanding ‘tax us now’  \n",
      "Sylt  Genteel German island balks at prospect of anti-capitalist ‘chaos’ party \n",
      "Insects  Why we should all love wasps \n",
      "‘What if he finds someone better?’  The agony and the ecstasy of an open relationship \n",
      "‘Phones are like a scab we know we shouldn’t pick’  The truth about social media and anxiety \n",
      "‘I’m not afraid’  After Buffalo racist attack, Black residents remain unbowed by terror \n",
      "Murder, rape and abuse in Asia’s factories  The true price of fast fashion \n",
      "The king and queen of popular fiction   Marian Keyes and Richard Osman on their successes and struggles \n",
      "Super food  Does turmeric’s reputation translate into real health benefits? \n",
      "All together now  Six brilliant recipes for meals to share with family and friends \n",
      "  \n",
      "\n",
      "\n",
      "  Stoking fear and hatred held the Coalition in power – finally Australia had enough \n",
      "  \n",
      "\n",
      "\n",
      "  The food crisis is what happens when global chains collapse. We might need to get used to it \n",
      "  \n",
      "\n",
      "\n",
      "  The alleged Buffalo shooter was also inspired by Islamophobia. That’s telling \n",
      "  \n",
      "\n",
      "\n",
      "  #MeToo is over if we don’t listen to ‘imperfect victims’ like Amber Heard \n",
      "  \n",
      "\n",
      "\n",
      "  If Dominic Cummings were still running No 10, would UK have given up on Ukraine? \n",
      "  \n",
      "\n",
      "\n",
      "  Australia's Tony Abbott and Scott Morrison have emptied the conservatives' broad church \n",
      "Manchester City 3-2 Aston Villa  City roar back from two down to clinch title \n",
      "Live  US PGA Championship 2022: final round \n",
      "Liverpool 3-1 Wolves  Liverpool fall short of title despite comeback win \n",
      "Brentford 1-2 Leeds  Harrison seals victory as Leeds beat drop on final day \n",
      "F1  Verstappen wins Spanish GP to take championship lead after Leclerc retires \n",
      "Norwich 0-5 Tottenham  Son double seals rout and top-four finish \n",
      "Tennis  Norrie backs top players to skip Wimbledon after ATP decision \n",
      "  \n",
      "\n",
      "\n",
      "  Lyon’s one-club mentality raises the bar in the women’s European game \n",
      "Ukraine  Afghan surgeon who fled country says he was treated differently at Polish border \n",
      "‘Putin has left us no option’  Finnish and Swedish readers on joining Nato \n",
      "Brexit  Three ways EU could retaliate if UK ditches Northern Ireland protocol \n",
      "‘When will it all end?’  Kharkiv counts the cost as Russians pull back \n",
      "Apocalypse now?   The alarming effects of the global food crisis \n",
      "Climate crisis  Indian wheat farmers count cost of 40C heat that evokes ‘deserts of Rajasthan’ \n",
      "Extreme weather  Historic heatwave poised to hit dozens of US states this weekend \n",
      "Climate crisis  Global heating is cutting sleep across the world, study finds \n",
      "Australia  World leaders respond to Anthony Albanese’s Australian election victory  \n",
      "Ireland  Seven centuries of archives painstakingly recreated after being destroyed in civil war \n",
      "Exclusive  Dream-enactment disorder rose up to fourfold during pandemic, study finds \n",
      "‘In no city have I felt as unsafe as Berlin’  Opera singer sues metro over racism claims \n",
      "UK  Home Office detains all asylum seekers it plans to send to Rwanda \n",
      "Ukraine  Syria’s barrel bomb experts in Russia to help with potential campaign \n",
      "In the firing zone  Evictions begin in West Bank villages after court ruling \n",
      "Afghanistan  Taliban enforce face coverings for female news presenters \n",
      "Belarus  Ukraine forces prepare for possible attack on border \n",
      "Brexit  Liz Truss rejects plea from Biden ally not to rewrite the Northern Ireland protocol \n",
      "‘It was a win-win situation’  Rose Leslie on movies, motherhood and marriage \n",
      "Cannes 2022  Forever Young - endlessly tedious story of self-involved drama students \n",
      "Cannes 2022  Holy Spider review – Iranian crime thriller takes real case and makes it implausible \n",
      "Fiction  Brouhaha by Ardal O’Hanlon review – what’s the story? \n",
      "Cannes 2022  ‘The end of western civilisation’: Triangle of Sadness director explains modelling world satire \n",
      "Comedy  Joe Lycett review – pranks, partygate and ghostly goats \n",
      "Outside the box  Creative solutions in a London flat \n",
      "Ask Philippa  \n",
      "\n",
      "\n",
      "  My ‘lost love’ has contacted me, but my wife is dismayed \n",
      "Readers reply  What are the lessons of history and why don’t we learn them? \n",
      "Nigel Slater recipes  Broad bean, spinach and filo pie, and broad bean and tahini cream \n",
      "The beauty spot  Vitamin C products: 10 of the best \n",
      "Fashion  High-fashion collabs mark new chapter in rivalry between Nike and Adidas  \n",
      "Self and wellbeing  My life was ruled by panic attacks. Here’s my seven-point guide to tackling anxiety \n",
      "‘There are almost always warning signs’  An activist says acts of mass violence can be prevented \n",
      "Abba  Can band really recreate the feel of a live concert using holograms 41 years after their last set? \n",
      "‘The lady without legs or arms’  How an artist shattered Victorian ideas about disability \n",
      "‘We’re still here’  Past and present collide at a Native American boarding school \n",
      "We are what we tweet  Wagatha, social media and the death of privacy \n",
      "Finland and Sweden  How do you feel about your countries and Nato membership? \n",
      "Russians  Tell us what the mood is like in your country \n",
      "Tell us  How have you been affected by the situation in Ukraine? \n",
      "Get in touch  Share a story with the Guardian \n",
      "Mariupol  Rain of munition cascades on to Azovstal steelworks \n",
      "'Any victory is important'  Ukraine wins Eurovision 2022 \n",
      "'Half of America deprived of hope'  Thousands rally for abortion rights across the US \n",
      "'Historic day'  Finland's leaders confirm intention to join Nato \n",
      "Palestinian territories  Israeli police ​attack funeral procession of killed journalist Shireen Abu Aqleh \n",
      "Philippines  Protests erupt as son of late dictator wins presidency \n",
      "Putin's Russia  From KGB agent to Kremlin operator  \n",
      "‘They want to destroy our culture’  Russian strike hits museum in Ukrainian town \n",
      "Made in London  Solidarity Britannia \n",
      "Climate crisis whale theatre and donkey cart racing  The weekend’s best photos \n",
      "Labor win, a teal wash and a ‘greenwave’  The Australian elections \n",
      "‘I’m pretty sure he was checking his own phone at the time’  Monaris’s best phone picture \n",
      "Dogs’ day out  Pooches at Australia’s polling places \n",
      "Twenty photographs of the week  Buffalo shooting, Ukraine war crimes trial, super moon … \n",
      "Under the volcano  A year after Mount Nyiragongo’s eruption, people of Goma start to rebuild their lives  \n",
      "Live  Russia-Ukraine war: airstrikes target Mykolaiv and Donbas regions; Ukraine EU bid could take 20 years, says French minister – live \n",
      "  Ukraine forces prepare for possible attack on Belarusian border \n",
      "  Syria’s barrel bomb experts in Russia to help with potential Ukraine campaign \n",
      "  Dream-enactment disorder rose up to fourfold during pandemic, study finds \n",
      "  ‘Devil’s advocate’? Russian soldier’s Ukrainian lawyer defends role on eve of verdict \n",
      "  Ukraine rules out any ceasefire deal that involves ceding territory to Russia \n",
      "  ‘In no city have I felt as unsafe as Berlin’: opera singer sues metro over racism claims \n",
      "  Seven centuries of Irish archives painstakingly recreated after being destroyed in civil war \n",
      "  Ukrainian man drives 3,700km to be reunited with parents and fiancee – who live just 10km away \n",
      "  ‘If my £6.5m Kent mansion is sold now it could help fund Putin’s war’ \n"
     ]
    }
   ],
   "source": [
    "import requests\n",
    "from bs4 import BeautifulSoup\n",
    "\n",
    "r = requests.get(\"http://www.theguardian.com\")\n",
    "soup = BeautifulSoup(r.text)\n",
    "\n",
    "for title in soup.find_all(\"h3\"):\n",
    "    print(title.text)"
   ]
  },
  {
   "cell_type": "markdown",
   "metadata": {},
   "source": [
    "## [tkinter](https://docs.python.org/3/library/tkinter.html) - Python interface to Tcl/Tk\n",
    "\n",
    "With `tkinter` you can create a graphical user interface (*GUI*) to extend your program. The\n",
    "[documentation](https://tkdocs.com/index.html) offers a detailed description how to start and how to use it. In the\n",
    "example below, a very basic program is shown to create a window containing a text and a button to close it."
   ]
  },
  {
   "cell_type": "code",
   "execution_count": 3,
   "metadata": {},
   "outputs": [
    {
     "name": "stdout",
     "output_type": "stream",
     "text": [
      "Button was pressed\n"
     ]
    }
   ],
   "source": [
    "from tkinter import *\n",
    " \n",
    "window = Tk()\n",
    "window.title(\"GUI created with tkinter\")\n",
    "window.geometry(\"400x300\")\n",
    "\n",
    "def function_button_1():\n",
    "    print(\"Button was pressed\")\n",
    "    \n",
    "def function_button_2():\n",
    "    window.destroy()\n",
    "\n",
    "btn_1 = Button(window, \n",
    "             text=\"This is a Button\", \n",
    "             background = \"yellow\", \n",
    "             command = function_button_1)\n",
    "btn_1.grid(column=0, row=1)\n",
    "\n",
    "btn_2 = Button(window, \n",
    "             text=\"Quit\", \n",
    "             background = \"red\", \n",
    "             command = function_button_2)\n",
    "btn_2.grid(column=1, row=1)\n",
    "             \n",
    "window.mainloop()"
   ]
  },
  {
   "cell_type": "markdown",
   "metadata": {},
   "source": [
    "## Working with large data sets\n",
    "\n",
    "### [Pandas](https://pandas.pydata.org/) - Python Data Analysis Library\n",
    "\n",
    "The Python module `pandas` can be used to process data sets, which size is only limited by the memory of your computer.\n",
    "It provides methods and functions to analyze and visualize these data sets. \n",
    "\n",
    "In the next cells, you can see some brief basic usage examples how to use `pandas`. The data used in this example\n",
    "contains angular rate and acceleration measurements from an IMU *(Intertial Measuremnt Unit)* which \n",
    "was sampled with 1 kHz (1.000 measurements per second).\n",
    "\n",
    "With `head(`*`x`*`)` and `tail(`*`x`*`)`, you can return the first/last *x* lines of your data."
   ]
  },
  {
   "cell_type": "code",
   "execution_count": 7,
   "metadata": {},
   "outputs": [
    {
     "name": "stdout",
     "output_type": "stream",
     "text": [
      "<class 'pandas.core.frame.DataFrame'>\n",
      "RangeIndex: 100000 entries, 0 to 99999\n",
      "Data columns (total 6 columns):\n",
      " #   Column           Non-Null Count   Dtype  \n",
      "---  ------           --------------   -----  \n",
      " 0   X_GYRO (32 bit)  100000 non-null  float64\n",
      " 1   Y_GYRO (32 bit)  100000 non-null  float64\n",
      " 2   Z_GYRO (32 bit)  100000 non-null  float64\n",
      " 3   X_ACCL (32 bit)  100000 non-null  float64\n",
      " 4   Y_ACCL (32 bit)  100000 non-null  float64\n",
      " 5   Z_ACCL (32 bit)  100000 non-null  float64\n",
      "dtypes: float64(6)\n",
      "memory usage: 4.6 MB\n",
      "None\n",
      "   X_GYRO (32 bit)  Y_GYRO (32 bit)  Z_GYRO (32 bit)  X_ACCL (32 bit)  \\\n",
      "0        -0.153669         0.135971         0.012654        -0.014472   \n",
      "1        -0.151507        -0.060998         0.032467        -0.012555   \n",
      "\n",
      "   Y_ACCL (32 bit)  Z_ACCL (32 bit)  \n",
      "0        -0.008335         1.000984  \n",
      "1        -0.010355         1.002156  \n"
     ]
    }
   ],
   "source": [
    "import pandas as pd\n",
    "\n",
    "dataframe = pd.read_csv(\"gyro_accel.csv\", sep=\";\")\n",
    "\n",
    "print(dataframe.info())\n",
    "\n",
    "print(dataframe.head(2))"
   ]
  },
  {
   "cell_type": "markdown",
   "metadata": {},
   "source": [
    "Or you can just select and print one specific column of your data:"
   ]
  },
  {
   "cell_type": "code",
   "execution_count": 8,
   "metadata": {},
   "outputs": [
    {
     "name": "stdout",
     "output_type": "stream",
     "text": [
      "0        1.000984\n",
      "1        1.002156\n",
      "2        1.003313\n",
      "3        1.002596\n",
      "4        1.003230\n",
      "           ...   \n",
      "99995    1.003572\n",
      "99996    1.002047\n",
      "99997    1.002171\n",
      "99998    1.002084\n",
      "99999    1.002361\n",
      "Name: Z_ACCL (32 bit), Length: 100000, dtype: float64\n"
     ]
    }
   ],
   "source": [
    "print(dataframe[\"Z_ACCL (32 bit)\"])"
   ]
  },
  {
   "cell_type": "markdown",
   "metadata": {},
   "source": [
    "You could calculate the mean value of your columns iterating through your data yourself, but with `pandas`, this takes\n",
    "just one function call:"
   ]
  },
  {
   "cell_type": "code",
   "execution_count": 9,
   "metadata": {},
   "outputs": [
    {
     "name": "stdout",
     "output_type": "stream",
     "text": [
      "X_GYRO (32 bit)   -0.158268\n",
      "Y_GYRO (32 bit)   -0.002482\n",
      "Z_GYRO (32 bit)   -0.032981\n",
      "X_ACCL (32 bit)   -0.013359\n",
      "Y_ACCL (32 bit)   -0.009486\n",
      "Z_ACCL (32 bit)    1.001941\n",
      "dtype: float64\n"
     ]
    }
   ],
   "source": [
    "mean_values = dataframe.mean()\n",
    "print(mean_values)"
   ]
  },
  {
   "cell_type": "markdown",
   "metadata": {},
   "source": [
    "## [Matplotlib](https://matplotlib.org/) - Visualization with Python\n",
    "\n",
    "With `matplotlib` you can create graphs to visualize your data. It works seamlessly with `pandas`\n",
    "and is set as a default library for plotting graphs in pandas. Have a look at the next cell to see an example visualizing\n",
    "the angular rate with a dashed line indicating the mean value."
   ]
  },
  {
   "cell_type": "code",
   "execution_count": null,
   "metadata": {},
   "outputs": [],
   "source": [
    "import matplotlib.pyplot as plt\n",
    "\n",
    "# set plot size for good visibility\n",
    "plt.figure(figsize=(12, 6))\n",
    "\n",
    "dataframe[\"Z_GYRO (32 bit)\"].plot(color=\"blue\")\n",
    "\n",
    "# plot mean line for z_gyro values and show plot\n",
    "plt.axhline(y=mean_values[2], color=\"red\", linewidth=2, linestyle=\"--\")\n",
    "plt.show()"
   ]
  },
  {
   "cell_type": "markdown",
   "metadata": {},
   "source": [
    "Of course, it is also possible to use `matplotlib` directly. in the following cell a large number of normally \n",
    "distribute values are generated. These values are then displayed using a histogram."
   ]
  },
  {
   "cell_type": "code",
   "execution_count": null,
   "metadata": {},
   "outputs": [],
   "source": [
    "import random\n",
    "import matplotlib.pyplot as plt\n",
    "\n",
    "random_values = []\n",
    "for _ in range(100000):\n",
    "    random_values.append(random.gauss(mu=100, sigma=20))\n",
    "\n",
    "print(random_values[:10])\n",
    "\n",
    "plt.hist(random_values, bins=500, alpha=0.5)\n",
    "plt.ylabel(\"count\")\n",
    "plt.grid(True)"
   ]
  },
  {
   "cell_type": "code",
   "execution_count": null,
   "metadata": {},
   "outputs": [],
   "source": []
  }
 ],
 "metadata": {
  "interpreter": {
   "hash": "b89b5cfaba6639976dc87ff2fec6d58faec662063367e2c229c520fe71072417"
  },
  "kernelspec": {
   "display_name": "Python 3 (ipykernel)",
   "language": "python",
   "name": "python3"
  },
  "language_info": {
   "codemirror_mode": {
    "name": "ipython",
    "version": 3
   },
   "file_extension": ".py",
   "mimetype": "text/x-python",
   "name": "python",
   "nbconvert_exporter": "python",
   "pygments_lexer": "ipython3",
   "version": "3.10.0"
  }
 },
 "nbformat": 4,
 "nbformat_minor": 2
}
